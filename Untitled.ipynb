{
 "cells": [
  {
   "cell_type": "code",
   "execution_count": null,
   "metadata": {
    "scrolled": true
   },
   "outputs": [],
   "source": [
    "import tensorflow as tf\n",
    "import numpy as np\n",
    "import cv2\n",
    "import matplotlib.pyplot as plt\n",
    "#%pylab inline\n",
    "import os\n",
    "#from os.path import join as pjoin\n",
    "#import sys\n",
    "#import copy\n",
    "import detect_face\n",
    "#import nn4 as network\n",
    "import random\n",
    "import pprint\n",
    "\n",
    "#import sklearn\n",
    "\n",
    "#from sklearn.externals import joblib\n",
    "def to_rgb(img):\n",
    "  w, h = img.shape\n",
    "  ret = np.empty((w, h, 3), dtype=np.uint8)\n",
    "  ret[:, :, 0] = ret[:, :, 1] = ret[:, :, 2] = img\n",
    "  return ret\n",
    "\n",
    "minsize = 20 # minimum size of face\n",
    "threshold = [ 0.6, 0.7, 0.8 ]  # three steps's threshold\n",
    "factor = 0.709 # scale factor\n",
    "\n",
    "\n",
    "\n",
    "print('Creating networks and loading parameters')\n",
    "\"\"\"\n",
    "gpu_memory_fraction=1.0\n",
    "with tf.Graph().as_default():\n",
    "    #gpu_options = tf.GPUOptions(per_process_gpu_memory_fraction=gpu_memory_fraction)\n",
    "    sess = tf.Session()#(config=tf.ConfigProto(gpu_options=gpu_options, log_device_placement=False))\n",
    "    with sess.as_default():\n",
    "        pnet, rnet, onet = detect_face.create_mtcnn(sess, './model_check_point/')\n",
    "\"\"\"     \n",
    "with tf.Graph().as_default():       \n",
    "    sess = tf.Session()#(config=tf.ConfigProto(gpu_options=gpu_options, log_device_placement=False))\n",
    "    with sess.as_default():\n",
    "        pnet, rnet, onet = detect_face.create_mtcnn(sess, './model_check_point/')\n",
    "\n",
    "        \n",
    "        \n",
    "video_capture = cv2.VideoCapture('800W.jpg')\n",
    "\n",
    "ret, frame = video_capture.read()\n",
    "#frame1=cv2.imread('800W.jpg',0)\n",
    "\n",
    "pprint.pprint(frame)\n",
    "#pprint.pprint(frame1)\n",
    "\n",
    "\n",
    "\n",
    "bounding_boxes, points = detect_face.detect_face(frame, minsize, pnet, rnet, onet, threshold, factor)\n",
    "#pprint.pprint(points)\n",
    "#pprint.pprint(bounding_boxes)\n",
    "\n",
    "for face_position in bounding_boxes:\n",
    "\n",
    "    face_position=face_position.astype(int)\n",
    "\n",
    "    #print((int(face_position[0]), int( face_position[1])))\n",
    "    #word_position.append((int(face_position[0]), int( face_position[1])))\n",
    "\n",
    "    cv2.rectangle(frame, (face_position[0], \n",
    "                    face_position[1]), \n",
    "              (face_position[2], face_position[3]), \n",
    "              (0, 255, 0), 2)\n",
    "cv2.imwrite('./save1.jpg',frame)\n",
    "cv2.imshow('a',frame)\n",
    "cv2.waitKey(0)"
   ]
  },
  {
   "cell_type": "code",
   "execution_count": null,
   "metadata": {
    "collapsed": true
   },
   "outputs": [],
   "source": []
  }
 ],
 "metadata": {
  "kernelspec": {
   "display_name": "Python 2",
   "language": "python",
   "name": "python2"
  },
  "language_info": {
   "codemirror_mode": {
    "name": "ipython",
    "version": 2
   },
   "file_extension": ".py",
   "mimetype": "text/x-python",
   "name": "python",
   "nbconvert_exporter": "python",
   "pygments_lexer": "ipython2",
   "version": "2.7.10"
  }
 },
 "nbformat": 4,
 "nbformat_minor": 2
}
